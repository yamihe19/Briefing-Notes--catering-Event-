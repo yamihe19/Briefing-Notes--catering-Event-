{
  "cells": [
    {
      "cell_type": "markdown",
      "metadata": {
        "id": "view-in-github",
        "colab_type": "text"
      },
      "source": [
        "<a href=\"https://colab.research.google.com/github/yamihe19/Briefing-Notes-Catering-Event-/blob/main/Code_Project_Titanic_Prediction.ipynb\" target=\"_parent\"><img src=\"https://colab.research.google.com/assets/colab-badge.svg\" alt=\"Open In Colab\"/></a>"
      ]
    },
    {
      "cell_type": "markdown",
      "metadata": {
        "id": "sLeQEpjfsAzJ"
      },
      "source": [
        "## Project-Titanic-Prediction"
      ]
    },
    {
      "cell_type": "markdown",
      "metadata": {
        "id": "jdbm6Ve3sAzO"
      },
      "source": [
        "For this exercise , you will be working with the [Titanic Data Set from Kaggle](https://www.kaggle.com/c/titanic). This is a very famous data set and very often is a student's first step in Data Analytics!\n",
        "\n",
        "The Dataset has been given to you on D2L. You need to download the .csv file from your assignment folder. The above link is just for a reference story about the data."
      ]
    },
    {
      "cell_type": "markdown",
      "metadata": {
        "id": "i8cJeeNisAzP"
      },
      "source": [
        "\n",
        "1- For this project, you need to perform explorotary data analysis and answer at least three hypotheses based on the dataset. You may need to use your knowledge of statiscts to analyze this data.\n",
        "\n",
        "Here are three possible hypotheses that you can define for this dataset (you can define your own hypotheses as well):\n",
        "\n",
        "- Determine if the survival rate is associated to the class of passenger\n",
        "- Determine if the survival rate is associated to the gender\n",
        "- Determine the survival rate is associated to the age\n",
        "\n",
        "\n",
        "\n",
        "2- For each hypothesis, you need to make at least one plot.\n",
        "\n",
        "3- Write a summary of your findings in one page (e.g., summary statistics, plots) and submit the pdf file. Therefore, for part 2 of your assignment, you need to submit one jupyter notebook file and one pdf file.\n",
        "\n",
        "This will be your first end to end data analysis project. For this assignment, you will be graded on you overall analysis, and your final report.\n",
        "\n",
        "4- Push your code and project to github and provide the link to your code here.\n",
        "\n"
      ]
    },
    {
      "cell_type": "markdown",
      "metadata": {
        "id": "xv1Mod7KsAzQ"
      },
      "source": [
        "**Here is the [GitHub Project](https://github.com/yamihe19/Assignment_3_P2.git)**"
      ]
    },
    {
      "cell_type": "markdown",
      "metadata": {
        "id": "rZ6jGJeJsAzQ"
      },
      "source": [
        "## 1. Exploratory Data Analysis"
      ]
    },
    {
      "cell_type": "markdown",
      "metadata": {
        "id": "IqtpgB0usAzR"
      },
      "source": [
        "\n",
        "#### Reading the data and beginnig with the exploratory Data Analysis\n"
      ]
    },
    {
      "cell_type": "code",
      "execution_count": null,
      "metadata": {
        "id": "A8743kdosAzS",
        "outputId": "1cc54cef-5459-48bc-e52b-5e133941614c"
      },
      "outputs": [
        {
          "data": {
            "text/html": [
              "<div>\n",
              "<style scoped>\n",
              "    .dataframe tbody tr th:only-of-type {\n",
              "        vertical-align: middle;\n",
              "    }\n",
              "\n",
              "    .dataframe tbody tr th {\n",
              "        vertical-align: top;\n",
              "    }\n",
              "\n",
              "    .dataframe thead th {\n",
              "        text-align: right;\n",
              "    }\n",
              "</style>\n",
              "<table border=\"1\" class=\"dataframe\">\n",
              "  <thead>\n",
              "    <tr style=\"text-align: right;\">\n",
              "      <th></th>\n",
              "      <th>PassengerId</th>\n",
              "      <th>Survived</th>\n",
              "      <th>Pclass</th>\n",
              "      <th>Name</th>\n",
              "      <th>Sex</th>\n",
              "      <th>Age</th>\n",
              "      <th>SibSp</th>\n",
              "      <th>Parch</th>\n",
              "      <th>Ticket</th>\n",
              "      <th>Fare</th>\n",
              "      <th>Cabin</th>\n",
              "      <th>Embarked</th>\n",
              "    </tr>\n",
              "  </thead>\n",
              "  <tbody>\n",
              "    <tr>\n",
              "      <th>0</th>\n",
              "      <td>1</td>\n",
              "      <td>0</td>\n",
              "      <td>3</td>\n",
              "      <td>Braund, Mr. Owen Harris</td>\n",
              "      <td>male</td>\n",
              "      <td>22.0</td>\n",
              "      <td>1</td>\n",
              "      <td>0</td>\n",
              "      <td>A/5 21171</td>\n",
              "      <td>7.2500</td>\n",
              "      <td>NaN</td>\n",
              "      <td>S</td>\n",
              "    </tr>\n",
              "    <tr>\n",
              "      <th>1</th>\n",
              "      <td>2</td>\n",
              "      <td>1</td>\n",
              "      <td>1</td>\n",
              "      <td>Cumings, Mrs. John Bradley (Florence Briggs Th...</td>\n",
              "      <td>female</td>\n",
              "      <td>38.0</td>\n",
              "      <td>1</td>\n",
              "      <td>0</td>\n",
              "      <td>PC 17599</td>\n",
              "      <td>71.2833</td>\n",
              "      <td>C85</td>\n",
              "      <td>C</td>\n",
              "    </tr>\n",
              "    <tr>\n",
              "      <th>2</th>\n",
              "      <td>3</td>\n",
              "      <td>1</td>\n",
              "      <td>3</td>\n",
              "      <td>Heikkinen, Miss. Laina</td>\n",
              "      <td>female</td>\n",
              "      <td>26.0</td>\n",
              "      <td>0</td>\n",
              "      <td>0</td>\n",
              "      <td>STON/O2. 3101282</td>\n",
              "      <td>7.9250</td>\n",
              "      <td>NaN</td>\n",
              "      <td>S</td>\n",
              "    </tr>\n",
              "    <tr>\n",
              "      <th>3</th>\n",
              "      <td>4</td>\n",
              "      <td>1</td>\n",
              "      <td>1</td>\n",
              "      <td>Futrelle, Mrs. Jacques Heath (Lily May Peel)</td>\n",
              "      <td>female</td>\n",
              "      <td>35.0</td>\n",
              "      <td>1</td>\n",
              "      <td>0</td>\n",
              "      <td>113803</td>\n",
              "      <td>53.1000</td>\n",
              "      <td>C123</td>\n",
              "      <td>S</td>\n",
              "    </tr>\n",
              "    <tr>\n",
              "      <th>4</th>\n",
              "      <td>5</td>\n",
              "      <td>0</td>\n",
              "      <td>3</td>\n",
              "      <td>Allen, Mr. William Henry</td>\n",
              "      <td>male</td>\n",
              "      <td>35.0</td>\n",
              "      <td>0</td>\n",
              "      <td>0</td>\n",
              "      <td>373450</td>\n",
              "      <td>8.0500</td>\n",
              "      <td>NaN</td>\n",
              "      <td>S</td>\n",
              "    </tr>\n",
              "  </tbody>\n",
              "</table>\n",
              "</div>"
            ],
            "text/plain": [
              "   PassengerId  Survived  Pclass  \\\n",
              "0            1         0       3   \n",
              "1            2         1       1   \n",
              "2            3         1       3   \n",
              "3            4         1       1   \n",
              "4            5         0       3   \n",
              "\n",
              "                                                Name     Sex   Age  SibSp  \\\n",
              "0                            Braund, Mr. Owen Harris    male  22.0      1   \n",
              "1  Cumings, Mrs. John Bradley (Florence Briggs Th...  female  38.0      1   \n",
              "2                             Heikkinen, Miss. Laina  female  26.0      0   \n",
              "3       Futrelle, Mrs. Jacques Heath (Lily May Peel)  female  35.0      1   \n",
              "4                           Allen, Mr. William Henry    male  35.0      0   \n",
              "\n",
              "   Parch            Ticket     Fare Cabin Embarked  \n",
              "0      0         A/5 21171   7.2500   NaN        S  \n",
              "1      0          PC 17599  71.2833   C85        C  \n",
              "2      0  STON/O2. 3101282   7.9250   NaN        S  \n",
              "3      0            113803  53.1000  C123        S  \n",
              "4      0            373450   8.0500   NaN        S  "
            ]
          },
          "execution_count": 32,
          "metadata": {},
          "output_type": "execute_result"
        }
      ],
      "source": [
        "import pandas as pd\n",
        "import seaborn as sns\n",
        "from scipy import stats\n",
        "from scipy.stats import chi2_contingency\n",
        "from matplotlib import pyplot as plt\n",
        "%matplotlib inline\n",
        "import missingno as msno\n",
        "tic = pd.read_csv('titanic.csv')\n",
        "tic.head()"
      ]
    },
    {
      "cell_type": "markdown",
      "metadata": {
        "id": "izyqoD20sAzV"
      },
      "source": [
        "#### Getting the data types and the columns\n",
        "\n",
        "To be able to see the data information types and the entries"
      ]
    },
    {
      "cell_type": "code",
      "execution_count": null,
      "metadata": {
        "id": "_OPqafYPsAzV",
        "outputId": "22abf730-8165-4696-8177-438597891eb8"
      },
      "outputs": [
        {
          "name": "stdout",
          "output_type": "stream",
          "text": [
            "<class 'pandas.core.frame.DataFrame'>\n",
            "RangeIndex: 891 entries, 0 to 890\n",
            "Data columns (total 12 columns):\n",
            " #   Column       Non-Null Count  Dtype  \n",
            "---  ------       --------------  -----  \n",
            " 0   PassengerId  891 non-null    int64  \n",
            " 1   Survived     891 non-null    int64  \n",
            " 2   Pclass       891 non-null    int64  \n",
            " 3   Name         891 non-null    object \n",
            " 4   Sex          891 non-null    object \n",
            " 5   Age          714 non-null    float64\n",
            " 6   SibSp        891 non-null    int64  \n",
            " 7   Parch        891 non-null    int64  \n",
            " 8   Ticket       891 non-null    object \n",
            " 9   Fare         891 non-null    float64\n",
            " 10  Cabin        204 non-null    object \n",
            " 11  Embarked     889 non-null    object \n",
            "dtypes: float64(2), int64(5), object(5)\n",
            "memory usage: 83.7+ KB\n"
          ]
        }
      ],
      "source": [
        "tic.info()\n",
        "\n",
        "# Survived, Pclass and Sex category data types will be changed for easier analysis."
      ]
    },
    {
      "cell_type": "code",
      "execution_count": null,
      "metadata": {
        "id": "G0OC5yoHsAzW",
        "outputId": "214dfb79-34a9-49d4-f9e6-46385001b0be"
      },
      "outputs": [
        {
          "name": "stdout",
          "output_type": "stream",
          "text": [
            "<class 'pandas.core.frame.DataFrame'>\n",
            "RangeIndex: 891 entries, 0 to 890\n",
            "Data columns (total 12 columns):\n",
            " #   Column       Non-Null Count  Dtype  \n",
            "---  ------       --------------  -----  \n",
            " 0   PassengerId  891 non-null    int64  \n",
            " 1   Survived     891 non-null    object \n",
            " 2   Pclass       891 non-null    object \n",
            " 3   Name         891 non-null    object \n",
            " 4   Sex          891 non-null    object \n",
            " 5   Age          714 non-null    float64\n",
            " 6   SibSp        891 non-null    int64  \n",
            " 7   Parch        891 non-null    int64  \n",
            " 8   Ticket       891 non-null    object \n",
            " 9   Fare         891 non-null    float64\n",
            " 10  Cabin        204 non-null    object \n",
            " 11  Embarked     889 non-null    object \n",
            "dtypes: float64(2), int64(3), object(7)\n",
            "memory usage: 83.7+ KB\n"
          ]
        }
      ],
      "source": [
        "tic['Survived']= tic['Survived'].astype('object')\n",
        "tic['Pclass']= tic['Pclass'].astype('object')\n",
        "tic['Sex']= tic['Sex'].astype('object')\n",
        "tic.info() # Categories changed to object type to use them in the hypothesis."
      ]
    },
    {
      "cell_type": "markdown",
      "metadata": {
        "id": "55WxVICNsAzW"
      },
      "source": [
        "#### Describing the description of the data in the DataFrame"
      ]
    },
    {
      "cell_type": "code",
      "execution_count": null,
      "metadata": {
        "id": "Y90S66E8sAzX",
        "outputId": "219323f3-a56d-45b8-ecb8-57beb606184c"
      },
      "outputs": [
        {
          "data": {
            "text/html": [
              "<div>\n",
              "<style scoped>\n",
              "    .dataframe tbody tr th:only-of-type {\n",
              "        vertical-align: middle;\n",
              "    }\n",
              "\n",
              "    .dataframe tbody tr th {\n",
              "        vertical-align: top;\n",
              "    }\n",
              "\n",
              "    .dataframe thead th {\n",
              "        text-align: right;\n",
              "    }\n",
              "</style>\n",
              "<table border=\"1\" class=\"dataframe\">\n",
              "  <thead>\n",
              "    <tr style=\"text-align: right;\">\n",
              "      <th></th>\n",
              "      <th>PassengerId</th>\n",
              "      <th>Age</th>\n",
              "      <th>SibSp</th>\n",
              "      <th>Parch</th>\n",
              "      <th>Fare</th>\n",
              "    </tr>\n",
              "  </thead>\n",
              "  <tbody>\n",
              "    <tr>\n",
              "      <th>count</th>\n",
              "      <td>891.000000</td>\n",
              "      <td>714.000000</td>\n",
              "      <td>891.000000</td>\n",
              "      <td>891.000000</td>\n",
              "      <td>891.000000</td>\n",
              "    </tr>\n",
              "    <tr>\n",
              "      <th>mean</th>\n",
              "      <td>446.000000</td>\n",
              "      <td>29.699118</td>\n",
              "      <td>0.523008</td>\n",
              "      <td>0.381594</td>\n",
              "      <td>32.204208</td>\n",
              "    </tr>\n",
              "    <tr>\n",
              "      <th>std</th>\n",
              "      <td>257.353842</td>\n",
              "      <td>14.526497</td>\n",
              "      <td>1.102743</td>\n",
              "      <td>0.806057</td>\n",
              "      <td>49.693429</td>\n",
              "    </tr>\n",
              "    <tr>\n",
              "      <th>min</th>\n",
              "      <td>1.000000</td>\n",
              "      <td>0.420000</td>\n",
              "      <td>0.000000</td>\n",
              "      <td>0.000000</td>\n",
              "      <td>0.000000</td>\n",
              "    </tr>\n",
              "    <tr>\n",
              "      <th>25%</th>\n",
              "      <td>223.500000</td>\n",
              "      <td>20.125000</td>\n",
              "      <td>0.000000</td>\n",
              "      <td>0.000000</td>\n",
              "      <td>7.910400</td>\n",
              "    </tr>\n",
              "    <tr>\n",
              "      <th>50%</th>\n",
              "      <td>446.000000</td>\n",
              "      <td>28.000000</td>\n",
              "      <td>0.000000</td>\n",
              "      <td>0.000000</td>\n",
              "      <td>14.454200</td>\n",
              "    </tr>\n",
              "    <tr>\n",
              "      <th>75%</th>\n",
              "      <td>668.500000</td>\n",
              "      <td>38.000000</td>\n",
              "      <td>1.000000</td>\n",
              "      <td>0.000000</td>\n",
              "      <td>31.000000</td>\n",
              "    </tr>\n",
              "    <tr>\n",
              "      <th>max</th>\n",
              "      <td>891.000000</td>\n",
              "      <td>80.000000</td>\n",
              "      <td>8.000000</td>\n",
              "      <td>6.000000</td>\n",
              "      <td>512.329200</td>\n",
              "    </tr>\n",
              "  </tbody>\n",
              "</table>\n",
              "</div>"
            ],
            "text/plain": [
              "       PassengerId         Age       SibSp       Parch        Fare\n",
              "count   891.000000  714.000000  891.000000  891.000000  891.000000\n",
              "mean    446.000000   29.699118    0.523008    0.381594   32.204208\n",
              "std     257.353842   14.526497    1.102743    0.806057   49.693429\n",
              "min       1.000000    0.420000    0.000000    0.000000    0.000000\n",
              "25%     223.500000   20.125000    0.000000    0.000000    7.910400\n",
              "50%     446.000000   28.000000    0.000000    0.000000   14.454200\n",
              "75%     668.500000   38.000000    1.000000    0.000000   31.000000\n",
              "max     891.000000   80.000000    8.000000    6.000000  512.329200"
            ]
          },
          "execution_count": 35,
          "metadata": {},
          "output_type": "execute_result"
        }
      ],
      "source": [
        "tic.describe()"
      ]
    },
    {
      "cell_type": "markdown",
      "metadata": {
        "id": "p37aAHoasAzX"
      },
      "source": [
        "#### Looking for the variables of my dataframe"
      ]
    },
    {
      "cell_type": "code",
      "execution_count": null,
      "metadata": {
        "id": "k8aRKwu1sAzY",
        "outputId": "1858008c-94a9-40c2-f4c1-5bd82ee17808"
      },
      "outputs": [
        {
          "data": {
            "text/plain": [
              "Index(['PassengerId', 'Survived', 'Pclass', 'Name', 'Sex', 'Age', 'SibSp',\n",
              "       'Parch', 'Ticket', 'Fare', 'Cabin', 'Embarked'],\n",
              "      dtype='object')"
            ]
          },
          "execution_count": 36,
          "metadata": {},
          "output_type": "execute_result"
        }
      ],
      "source": [
        "tic.columns"
      ]
    },
    {
      "cell_type": "markdown",
      "metadata": {
        "id": "7r4YJECksAzY"
      },
      "source": [
        "#### Checking for null values\n",
        "\n",
        "To explore my data and be able to see the null values into the variables"
      ]
    },
    {
      "cell_type": "code",
      "execution_count": null,
      "metadata": {
        "id": "IsQJigWVsAzY",
        "outputId": "3d419de9-7f79-4651-91a4-625263d51c7b"
      },
      "outputs": [
        {
          "data": {
            "text/plain": [
              "Cabin          687\n",
              "Age            177\n",
              "Embarked         2\n",
              "PassengerId      0\n",
              "Survived         0\n",
              "Pclass           0\n",
              "Name             0\n",
              "Sex              0\n",
              "SibSp            0\n",
              "Parch            0\n",
              "Ticket           0\n",
              "Fare             0\n",
              "dtype: int64"
            ]
          },
          "execution_count": 37,
          "metadata": {},
          "output_type": "execute_result"
        }
      ],
      "source": [
        "tic.isnull().sum().sort_values(ascending = False)"
      ]
    },
    {
      "cell_type": "code",
      "execution_count": null,
      "metadata": {
        "id": "xMtP4gCnsAzZ",
        "outputId": "707aaa2f-69ec-49b0-c896-1171bb984c70"
      },
      "outputs": [
        {
          "data": {
            "text/plain": [
              "Cabin          77.104377\n",
              "Age            19.865320\n",
              "Embarked        0.224467\n",
              "PassengerId     0.000000\n",
              "Survived        0.000000\n",
              "Pclass          0.000000\n",
              "Name            0.000000\n",
              "Sex             0.000000\n",
              "SibSp           0.000000\n",
              "Parch           0.000000\n",
              "Ticket          0.000000\n",
              "Fare            0.000000\n",
              "dtype: float64"
            ]
          },
          "execution_count": 53,
          "metadata": {},
          "output_type": "execute_result"
        }
      ],
      "source": [
        "(tic.isnull().sum().sort_values(ascending = False)/891)*100"
      ]
    },
    {
      "cell_type": "code",
      "execution_count": null,
      "metadata": {
        "id": "YM8-9B5QsAzZ",
        "outputId": "4e874f40-6d81-4903-c906-b589ae63fa40"
      },
      "outputs": [
        {
          "data": {
            "text/plain": [
              "<AxesSubplot:>"
            ]
          },
          "execution_count": 52,
          "metadata": {},
          "output_type": "execute_result"
        },
        {
          "data": {
            "image/png": "[encoded data removed]",
            "text/plain": [
              "<Figure size 2400x1000 with 3 Axes>"
            ]
          },
          "metadata": {},
          "output_type": "display_data"
        }
      ],
      "source": [
        "msno.bar(tic)"
      ]
    },
    {
      "cell_type": "code",
      "execution_count": null,
      "metadata": {
        "id": "94JEIEMgsAzb",
        "outputId": "9fac1493-4332-4131-88be-d38236074970"
      },
      "outputs": [
        {
          "data": {
            "text/plain": [
              "Cabin          77.104377\n",
              "Age            19.865320\n",
              "Embarked        0.224467\n",
              "PassengerId     0.000000\n",
              "Survived        0.000000\n",
              "Pclass          0.000000\n",
              "Name            0.000000\n",
              "Sex             0.000000\n",
              "SibSp           0.000000\n",
              "Parch           0.000000\n",
              "Ticket          0.000000\n",
              "Fare            0.000000\n",
              "dtype: float64"
            ]
          },
          "execution_count": 54,
          "metadata": {},
          "output_type": "execute_result"
        }
      ],
      "source": [
        "(tic.isnull().sum().sort_values(ascending = False)/891)*100"
      ]
    },
    {
      "cell_type": "markdown",
      "metadata": {
        "id": "V_iEl5YEsAzb"
      },
      "source": [
        "Cabin, Age and Embarked have a missing values.\n",
        "Missing values in Cabin represent 77.10% of its data, Age missing values represent 19.86%, and Embarked is less than 0.22% of missing values."
      ]
    },
    {
      "cell_type": "markdown",
      "metadata": {
        "id": "aqBI3cYmsAzc"
      },
      "source": [
        "#### Looking for unique values in my categorical variables"
      ]
    },
    {
      "cell_type": "code",
      "execution_count": null,
      "metadata": {
        "id": "vaeM3ZZPsAzc",
        "outputId": "43160b4f-3a9a-4400-9980-b39d2717813b"
      },
      "outputs": [
        {
          "data": {
            "text/plain": [
              "[array([3, 1, 2], dtype=object),\n",
              " array(['male', 'female'], dtype=object),\n",
              " array([0, 1], dtype=object),\n",
              " array(['S', 'C', 'Q', nan], dtype=object)]"
            ]
          },
          "execution_count": 41,
          "metadata": {},
          "output_type": "execute_result"
        }
      ],
      "source": [
        "def unique_value(df, column_names):\n",
        "    uniques = []\n",
        "    for name in column_names:\n",
        "        uniques.append(df[name].unique())\n",
        "    return uniques\n",
        "\n",
        "unique_value(tic, ['Pclass','Sex', 'Survived', 'Embarked'])"
      ]
    },
    {
      "cell_type": "markdown",
      "metadata": {
        "id": "PC0V14jYsAzd"
      },
      "source": [
        "####  Counting the values of the variables"
      ]
    },
    {
      "cell_type": "code",
      "execution_count": null,
      "metadata": {
        "id": "7IHU7rnLsAzd",
        "outputId": "00e00698-04e3-4a10-ab72-17b840569e44"
      },
      "outputs": [
        {
          "data": {
            "text/plain": [
              "('Embarked',\n",
              " [3    491\n",
              "  1    216\n",
              "  2    184\n",
              "  Name: Pclass, dtype: int64,\n",
              "  male      577\n",
              "  female    314\n",
              "  Name: Sex, dtype: int64,\n",
              "  0    549\n",
              "  1    342\n",
              "  Name: Survived, dtype: int64,\n",
              "  S    644\n",
              "  C    168\n",
              "  Q     77\n",
              "  Name: Embarked, dtype: int64])"
            ]
          },
          "execution_count": 42,
          "metadata": {},
          "output_type": "execute_result"
        }
      ],
      "source": [
        "def counts_value(df, column_name):\n",
        "    counts = []\n",
        "    for name  in column_name:\n",
        "        counts.append(df[name].value_counts())\n",
        "    return name, counts\n",
        "\n",
        "counts_value(tic, ['Pclass','Sex', 'Survived', 'Embarked'])\n"
      ]
    },
    {
      "cell_type": "code",
      "execution_count": null,
      "metadata": {
        "id": "aoq5G9pesAzd",
        "outputId": "2782f969-8d1f-423d-f0ca-58f04db56550"
      },
      "outputs": [
        {
          "name": "stdout",
          "output_type": "stream",
          "text": [
            "891\n"
          ]
        }
      ],
      "source": [
        "print(tic['PassengerId'].nunique())"
      ]
    },
    {
      "cell_type": "code",
      "execution_count": null,
      "metadata": {
        "id": "PVZTLINYsAze",
        "outputId": "7d5749b4-2566-4a43-bd38-44b11977e19b"
      },
      "outputs": [
        {
          "name": "stdout",
          "output_type": "stream",
          "text": [
            "Survived\n",
            "0           61.616162\n",
            "1           38.383838\n",
            "dtype: float64\n"
          ]
        }
      ],
      "source": [
        "Per_of_survived = (tic[['Survived']].value_counts()/891)*100\n",
        "print(Per_of_survived)"
      ]
    },
    {
      "cell_type": "code",
      "execution_count": null,
      "metadata": {
        "id": "Mpc9I4WvsAzf",
        "outputId": "09d9430b-d60a-490c-85a2-0efcb63a0c7d"
      },
      "outputs": [
        {
          "name": "stdout",
          "output_type": "stream",
          "text": [
            "Sex   \n",
            "male      64.758698\n",
            "female    35.241302\n",
            "dtype: float64\n"
          ]
        }
      ],
      "source": [
        "per_Gender = (tic[['Sex']].value_counts()/891)*100\n",
        "print(per_Gender)"
      ]
    },
    {
      "cell_type": "code",
      "execution_count": null,
      "metadata": {
        "id": "zNQRm56esAzf",
        "outputId": "4fbb51e9-b796-4322-cbef-282e8d7d6cf1"
      },
      "outputs": [
        {
          "name": "stdout",
          "output_type": "stream",
          "text": [
            "Pclass\n",
            "3         55.106622\n",
            "1         24.242424\n",
            "2         20.650954\n",
            "dtype: float64\n"
          ]
        }
      ],
      "source": [
        "per_Class = (tic[['Pclass']].value_counts()/891)*100\n",
        "print(per_Class)"
      ]
    },
    {
      "cell_type": "code",
      "execution_count": null,
      "metadata": {
        "id": "xmP0ayMqsAzg",
        "outputId": "3f1ecf55-f4de-47d5-8608-29fd341a77b1"
      },
      "outputs": [
        {
          "data": {
            "text/plain": [
              "count    714.000000\n",
              "mean      29.699118\n",
              "std       14.526497\n",
              "min        0.420000\n",
              "25%       20.125000\n",
              "50%       28.000000\n",
              "75%       38.000000\n",
              "max       80.000000\n",
              "Name: Age, dtype: float64"
            ]
          },
          "execution_count": 47,
          "metadata": {},
          "output_type": "execute_result"
        }
      ],
      "source": [
        "tic['Age'].describe()"
      ]
    },
    {
      "cell_type": "markdown",
      "metadata": {
        "id": "RTeH8zSKsAzg"
      },
      "source": [
        "##### Conclusions\n",
        "* 891 People were on the Titanic.\n",
        "* 549 of them died and 342 lived.\n",
        "* The percentage of people who died was 61.61% and people who lived was 38.38%\n",
        "* 577 were female and 314 male. The percentage of female was 64.75% and male was 35.34%.\n",
        "* People from first class were 216, from second class were 184 and from third class were 491.\n",
        "* The first class represented 24.24%, second class 20.65% and third class 55.10% of people.\n",
        "* Age ranged from 0.42 yrs(min) to 80 yrs (max).\n",
        "* There are 12 variables in dataframe, 7 of them are categorical variables.\n",
        "* The maximun value of the fare was 512.329200\n",
        "* Just Age, Cabin and Embarked are variables with null entries.\n"
      ]
    },
    {
      "cell_type": "markdown",
      "metadata": {
        "id": "p1u1PAARsAzg"
      },
      "source": [
        "## Hypothesis 1\n",
        "\n",
        "### Determine if the survival rate is associated to the class of passenger\n",
        "##### Bivariate analysis"
      ]
    },
    {
      "cell_type": "markdown",
      "metadata": {
        "id": "OO6zKGZYsAzi"
      },
      "source": [
        "#### Tables of frecuencies and percentages between the variables"
      ]
    },
    {
      "cell_type": "code",
      "execution_count": null,
      "metadata": {
        "id": "JROwzp9FsAzj",
        "outputId": "56ae46f7-18e3-4631-cb77-50610ef93df5"
      },
      "outputs": [
        {
          "data": {
            "text/html": [
              "<div>\n",
              "<style scoped>\n",
              "    .dataframe tbody tr th:only-of-type {\n",
              "        vertical-align: middle;\n",
              "    }\n",
              "\n",
              "    .dataframe tbody tr th {\n",
              "        vertical-align: top;\n",
              "    }\n",
              "\n",
              "    .dataframe thead th {\n",
              "        text-align: right;\n",
              "    }\n",
              "</style>\n",
              "<table border=\"1\" class=\"dataframe\">\n",
              "  <thead>\n",
              "    <tr style=\"text-align: right;\">\n",
              "      <th>Survived</th>\n",
              "      <th>0</th>\n",
              "      <th>1</th>\n",
              "    </tr>\n",
              "    <tr>\n",
              "      <th>Pclass</th>\n",
              "      <th></th>\n",
              "      <th></th>\n",
              "    </tr>\n",
              "  </thead>\n",
              "  <tbody>\n",
              "    <tr>\n",
              "      <th>1</th>\n",
              "      <td>80</td>\n",
              "      <td>136</td>\n",
              "    </tr>\n",
              "    <tr>\n",
              "      <th>2</th>\n",
              "      <td>97</td>\n",
              "      <td>87</td>\n",
              "    </tr>\n",
              "    <tr>\n",
              "      <th>3</th>\n",
              "      <td>372</td>\n",
              "      <td>119</td>\n",
              "    </tr>\n",
              "  </tbody>\n",
              "</table>\n",
              "</div>"
            ],
            "text/plain": [
              "Survived    0    1\n",
              "Pclass            \n",
              "1          80  136\n",
              "2          97   87\n",
              "3         372  119"
            ]
          },
          "execution_count": 132,
          "metadata": {},
          "output_type": "execute_result"
        }
      ],
      "source": [
        "class_surv= pd.crosstab(tic['Pclass'], tic['Survived'])\n",
        "class_surv\n"
      ]
    },
    {
      "cell_type": "code",
      "execution_count": null,
      "metadata": {
        "id": "i35lbbTssAzk",
        "outputId": "c25f2e24-f6d4-4c7b-e39e-518b83ccbfd4"
      },
      "outputs": [
        {
          "data": {
            "text/html": [
              "<div>\n",
              "<style scoped>\n",
              "    .dataframe tbody tr th:only-of-type {\n",
              "        vertical-align: middle;\n",
              "    }\n",
              "\n",
              "    .dataframe tbody tr th {\n",
              "        vertical-align: top;\n",
              "    }\n",
              "\n",
              "    .dataframe thead th {\n",
              "        text-align: right;\n",
              "    }\n",
              "</style>\n",
              "<table border=\"1\" class=\"dataframe\">\n",
              "  <thead>\n",
              "    <tr style=\"text-align: right;\">\n",
              "      <th>Survived</th>\n",
              "      <th>0</th>\n",
              "      <th>1</th>\n",
              "    </tr>\n",
              "    <tr>\n",
              "      <th>Pclass</th>\n",
              "      <th></th>\n",
              "      <th></th>\n",
              "    </tr>\n",
              "  </thead>\n",
              "  <tbody>\n",
              "    <tr>\n",
              "      <th>1</th>\n",
              "      <td>14.57</td>\n",
              "      <td>39.77</td>\n",
              "    </tr>\n",
              "    <tr>\n",
              "      <th>2</th>\n",
              "      <td>17.67</td>\n",
              "      <td>25.44</td>\n",
              "    </tr>\n",
              "    <tr>\n",
              "      <th>3</th>\n",
              "      <td>67.76</td>\n",
              "      <td>34.80</td>\n",
              "    </tr>\n",
              "  </tbody>\n",
              "</table>\n",
              "</div>"
            ],
            "text/plain": [
              "Survived      0      1\n",
              "Pclass                \n",
              "1         14.57  39.77\n",
              "2         17.67  25.44\n",
              "3         67.76  34.80"
            ]
          },
          "execution_count": 113,
          "metadata": {},
          "output_type": "execute_result"
        }
      ],
      "source": [
        "class_per= pd.crosstab(tic['Pclass'], tic['Survived']).apply(lambda x: round((x/x.sum())*100,2), axis =0)\n",
        "class_per\n"
      ]
    },
    {
      "cell_type": "code",
      "execution_count": null,
      "metadata": {
        "id": "ZFUdbFe8sAzl",
        "outputId": "21186036-4091-40a2-f7fe-63a5ac630f32"
      },
      "outputs": [
        {
          "data": {
            "text/html": [
              "<div>\n",
              "<style scoped>\n",
              "    .dataframe tbody tr th:only-of-type {\n",
              "        vertical-align: middle;\n",
              "    }\n",
              "\n",
              "    .dataframe tbody tr th {\n",
              "        vertical-align: top;\n",
              "    }\n",
              "\n",
              "    .dataframe thead th {\n",
              "        text-align: right;\n",
              "    }\n",
              "</style>\n",
              "<table border=\"1\" class=\"dataframe\">\n",
              "  <thead>\n",
              "    <tr style=\"text-align: right;\">\n",
              "      <th>Survived</th>\n",
              "      <th>0</th>\n",
              "      <th>1</th>\n",
              "    </tr>\n",
              "    <tr>\n",
              "      <th>Pclass</th>\n",
              "      <th></th>\n",
              "      <th></th>\n",
              "    </tr>\n",
              "  </thead>\n",
              "  <tbody>\n",
              "    <tr>\n",
              "      <th>1</th>\n",
              "      <td>37.04</td>\n",
              "      <td>62.96</td>\n",
              "    </tr>\n",
              "    <tr>\n",
              "      <th>2</th>\n",
              "      <td>52.72</td>\n",
              "      <td>47.28</td>\n",
              "    </tr>\n",
              "    <tr>\n",
              "      <th>3</th>\n",
              "      <td>75.76</td>\n",
              "      <td>24.24</td>\n",
              "    </tr>\n",
              "  </tbody>\n",
              "</table>\n",
              "</div>"
            ],
            "text/plain": [
              "Survived      0      1\n",
              "Pclass                \n",
              "1         37.04  62.96\n",
              "2         52.72  47.28\n",
              "3         75.76  24.24"
            ]
          },
          "execution_count": 114,
          "metadata": {},
          "output_type": "execute_result"
        }
      ],
      "source": [
        "class_per= pd.crosstab(tic['Pclass'], tic['Survived']).apply(lambda x: round((x/x.sum())*100,2), axis =1)\n",
        "class_per"
      ]
    },
    {
      "cell_type": "markdown",
      "metadata": {
        "id": "rTLi2UBYsAzm"
      },
      "source": [
        "#### Data Visualization for Pclass and Survive Variables"
      ]
    },
    {
      "cell_type": "code",
      "execution_count": null,
      "metadata": {
        "id": "asMrVgYusAzm",
        "outputId": "5d9552ec-ca9d-49ff-b02d-8915cbd114fb"
      },
      "outputs": [
        {
          "data": {
            "text/plain": [
              "<AxesSubplot:xlabel='Survived', ylabel='Pclass'>"
            ]
          },
          "execution_count": 160,
          "metadata": {},
          "output_type": "execute_result"
        },
        {
          "data": {
            "image/png": "[encoded data removed]",
            "text/plain": [
              "<Figure size 1200x800 with 2 Axes>"
            ]
          },
          "metadata": {},
          "output_type": "display_data"
        }
      ],
      "source": [
        "plt.figure(figsize=(12,8))\n",
        "sns.heatmap(class_surv,annot=True, fmt='g',square=True,cmap='hot')\n"
      ]
    },
    {
      "cell_type": "markdown",
      "metadata": {
        "id": "QXW30Mp0sAzn"
      },
      "source": [
        "From the 891 people on the Titanic, most of the third class people died and most of the first class survived.\n",
        "The heatmap shows clearly that tendency."
      ]
    },
    {
      "cell_type": "code",
      "execution_count": null,
      "metadata": {
        "id": "oIRYWW1hsAzn",
        "outputId": "7e5c8d31-73f1-402b-ba1d-312796377b30"
      },
      "outputs": [
        {
          "data": {
            "text/plain": [
              "<AxesSubplot:xlabel='Pclass', ylabel='count'>"
            ]
          },
          "execution_count": 141,
          "metadata": {},
          "output_type": "execute_result"
        },
        {
          "data": {
            "image/png": "[encoded data removed]",
            "text/plain": [
              "<Figure size 640x480 with 1 Axes>"
            ]
          },
          "metadata": {},
          "output_type": "display_data"
        }
      ],
      "source": [
        "sns.set_style('whitegrid')\n",
        "sns.countplot(x = 'Pclass', data = tic, hue= \"Survived\", palette = 'flare')"
      ]
    },
    {
      "cell_type": "markdown",
      "metadata": {
        "id": "jOPG4WOHsAzo"
      },
      "source": [
        "The countplot shows that the variables are not independent from each other. The number of people that survived was closely related to the passenger's class."
      ]
    },
    {
      "cell_type": "markdown",
      "metadata": {
        "id": "dJ0K3xxOsAzo"
      },
      "source": [
        "#### Calculating Statistical  Chi square Test:\n",
        "\n",
        "Conducting Chi-squared test to establish whether the Survived and Age variables are related.         \n",
        "* Dependent Variable: Survived                                                                            \n",
        "* Independent Variable: Pclass\n",
        "\n",
        "\n",
        "Ho: The variables Pclass and Survived are independent from each other. They have no relation.\n",
        "\n",
        "Ha: The variables Pclass and Survived are not independent from each other. They have a correlation"
      ]
    },
    {
      "cell_type": "code",
      "execution_count": null,
      "metadata": {
        "scrolled": true,
        "id": "wQew1G0lsAzp",
        "outputId": "c98c77b9-189a-4db1-922d-316c66f8fec0"
      },
      "outputs": [
        {
          "name": "stdout",
          "output_type": "stream",
          "text": [
            "Chi square value is  102.88898875696056\n",
            "P value is 4.549251711298793e-23\n",
            "Degrees of Freedom: 2\n"
          ]
        }
      ],
      "source": [
        "chi2_stat, p_val, dof, ex = stats.chi2_contingency(class_surv)\n",
        "\n",
        "print(\"Chi square value is \",chi2_stat)\n",
        "print(\"P value is\",p_val)\n",
        "print(\"Degrees of Freedom:\",dof)\n",
        "# chi2_stat > P\n"
      ]
    },
    {
      "cell_type": "markdown",
      "metadata": {
        "id": "NeMmmlVzsAzq"
      },
      "source": [
        "Because Chi square value is bigger than P value and P value is smaller than 0.05, I have enough evidence to reject the Ho Hypothesis and conclude that the variables have a correlation and are dependent. In others words, People in higher class had more chance to live than people in lower class.  "
      ]
    },
    {
      "cell_type": "markdown",
      "metadata": {
        "id": "OaUEDh0hsAzq"
      },
      "source": [
        "#### Conclusions:\n",
        "75% of people from third class died.\n",
        "62.96% percent of people from first class lived.\n",
        "The graph clearly shows that the 1st class had more posibilities to survive than the rest.\n",
        "Indeed, survivability seems to be correlated with the Pclass."
      ]
    },
    {
      "cell_type": "markdown",
      "metadata": {
        "id": "YdlCHE8BsAzr"
      },
      "source": [
        "## Hypothesis 2\n",
        "\n",
        "### Determine if the survival rate is associated to the gender\n",
        "\n",
        "##### Bivariate analysis\n"
      ]
    },
    {
      "cell_type": "markdown",
      "metadata": {
        "id": "pbud9_qDsAzr"
      },
      "source": [
        "\n",
        "#### Tables of frecuencies and percentages between the variables"
      ]
    },
    {
      "cell_type": "code",
      "execution_count": null,
      "metadata": {
        "id": "Ic8MlgjHsAzr",
        "outputId": "42588bd0-d790-4f95-a311-5cd04d28a6d2"
      },
      "outputs": [
        {
          "data": {
            "text/html": [
              "<div>\n",
              "<style scoped>\n",
              "    .dataframe tbody tr th:only-of-type {\n",
              "        vertical-align: middle;\n",
              "    }\n",
              "\n",
              "    .dataframe tbody tr th {\n",
              "        vertical-align: top;\n",
              "    }\n",
              "\n",
              "    .dataframe thead th {\n",
              "        text-align: right;\n",
              "    }\n",
              "</style>\n",
              "<table border=\"1\" class=\"dataframe\">\n",
              "  <thead>\n",
              "    <tr style=\"text-align: right;\">\n",
              "      <th>Survived</th>\n",
              "      <th>0</th>\n",
              "      <th>1</th>\n",
              "    </tr>\n",
              "    <tr>\n",
              "      <th>Sex</th>\n",
              "      <th></th>\n",
              "      <th></th>\n",
              "    </tr>\n",
              "  </thead>\n",
              "  <tbody>\n",
              "    <tr>\n",
              "      <th>female</th>\n",
              "      <td>81</td>\n",
              "      <td>233</td>\n",
              "    </tr>\n",
              "    <tr>\n",
              "      <th>male</th>\n",
              "      <td>468</td>\n",
              "      <td>109</td>\n",
              "    </tr>\n",
              "  </tbody>\n",
              "</table>\n",
              "</div>"
            ],
            "text/plain": [
              "Survived    0    1\n",
              "Sex               \n",
              "female     81  233\n",
              "male      468  109"
            ]
          },
          "execution_count": 117,
          "metadata": {},
          "output_type": "execute_result"
        }
      ],
      "source": [
        "sex_surv= pd.crosstab(tic['Sex'], tic['Survived'])\n",
        "sex_surv\n",
        "# Frecuency table of Sex and Survived"
      ]
    },
    {
      "cell_type": "code",
      "execution_count": null,
      "metadata": {
        "id": "5azRgr7asAzr",
        "outputId": "4ef7db3d-5607-4ad5-a67c-784e86a717aa"
      },
      "outputs": [
        {
          "data": {
            "text/html": [
              "<div>\n",
              "<style scoped>\n",
              "    .dataframe tbody tr th:only-of-type {\n",
              "        vertical-align: middle;\n",
              "    }\n",
              "\n",
              "    .dataframe tbody tr th {\n",
              "        vertical-align: top;\n",
              "    }\n",
              "\n",
              "    .dataframe thead th {\n",
              "        text-align: right;\n",
              "    }\n",
              "</style>\n",
              "<table border=\"1\" class=\"dataframe\">\n",
              "  <thead>\n",
              "    <tr style=\"text-align: right;\">\n",
              "      <th>Survived</th>\n",
              "      <th>0</th>\n",
              "      <th>1</th>\n",
              "    </tr>\n",
              "    <tr>\n",
              "      <th>Sex</th>\n",
              "      <th></th>\n",
              "      <th></th>\n",
              "    </tr>\n",
              "  </thead>\n",
              "  <tbody>\n",
              "    <tr>\n",
              "      <th>female</th>\n",
              "      <td>25.80</td>\n",
              "      <td>74.20</td>\n",
              "    </tr>\n",
              "    <tr>\n",
              "      <th>male</th>\n",
              "      <td>81.11</td>\n",
              "      <td>18.89</td>\n",
              "    </tr>\n",
              "  </tbody>\n",
              "</table>\n",
              "</div>"
            ],
            "text/plain": [
              "Survived      0      1\n",
              "Sex                   \n",
              "female    25.80  74.20\n",
              "male      81.11  18.89"
            ]
          },
          "execution_count": 168,
          "metadata": {},
          "output_type": "execute_result"
        }
      ],
      "source": [
        "sex_Surv_Per= pd.crosstab(tic['Sex'], tic['Survived']).apply(lambda x: round((x/x.sum())*100,2), axis =0)\n",
        "sex_Surv_Per\n",
        "# Its clearly show that the female had more possibilities to survived that male"
      ]
    },
    {
      "cell_type": "markdown",
      "metadata": {
        "id": "TLuKraMAsAzs"
      },
      "source": [
        "Using crosstab rowwise to obtain those percentage"
      ]
    },
    {
      "cell_type": "code",
      "execution_count": null,
      "metadata": {
        "id": "maye-xmrsAzs",
        "outputId": "dc0a8e42-5528-4e36-d443-9a3142fe9e80"
      },
      "outputs": [
        {
          "data": {
            "text/html": [
              "<div>\n",
              "<style scoped>\n",
              "    .dataframe tbody tr th:only-of-type {\n",
              "        vertical-align: middle;\n",
              "    }\n",
              "\n",
              "    .dataframe tbody tr th {\n",
              "        vertical-align: top;\n",
              "    }\n",
              "\n",
              "    .dataframe thead th {\n",
              "        text-align: right;\n",
              "    }\n",
              "</style>\n",
              "<table border=\"1\" class=\"dataframe\">\n",
              "  <thead>\n",
              "    <tr style=\"text-align: right;\">\n",
              "      <th>Survived</th>\n",
              "      <th>0</th>\n",
              "      <th>1</th>\n",
              "    </tr>\n",
              "    <tr>\n",
              "      <th>Sex</th>\n",
              "      <th></th>\n",
              "      <th></th>\n",
              "    </tr>\n",
              "  </thead>\n",
              "  <tbody>\n",
              "    <tr>\n",
              "      <th>female</th>\n",
              "      <td>25.80</td>\n",
              "      <td>74.20</td>\n",
              "    </tr>\n",
              "    <tr>\n",
              "      <th>male</th>\n",
              "      <td>81.11</td>\n",
              "      <td>18.89</td>\n",
              "    </tr>\n",
              "  </tbody>\n",
              "</table>\n",
              "</div>"
            ],
            "text/plain": [
              "Survived      0      1\n",
              "Sex                   \n",
              "female    25.80  74.20\n",
              "male      81.11  18.89"
            ]
          },
          "execution_count": 119,
          "metadata": {},
          "output_type": "execute_result"
        }
      ],
      "source": [
        "sex_Surv_Per= pd.crosstab(tic['Sex'], tic['Survived']).apply(lambda x: round((x/x.sum())*100,2), axis = 1)\n",
        "sex_Surv_Per"
      ]
    },
    {
      "cell_type": "markdown",
      "metadata": {
        "id": "XiNpl4G0sAzt"
      },
      "source": [
        "#### Data Visualization for Sex and Survive Variables"
      ]
    },
    {
      "cell_type": "code",
      "execution_count": null,
      "metadata": {
        "id": "SBk1NCCDsAzt",
        "outputId": "5a7a05ac-5deb-4cc5-ed3f-e4d4866071a4"
      },
      "outputs": [
        {
          "data": {
            "text/plain": [
              "<AxesSubplot:xlabel='Survived', ylabel='Sex'>"
            ]
          },
          "execution_count": 300,
          "metadata": {},
          "output_type": "execute_result"
        },
        {
          "data": {
            "image/png": "[encoded data removed]",
            "text/plain": [
              "<Figure size 1200x800 with 2 Axes>"
            ]
          },
          "metadata": {},
          "output_type": "display_data"
        }
      ],
      "source": [
        "plt.figure(figsize=(12,8))\n",
        "sns.heatmap(sex_surv,annot=True, fmt='g',square=True,cmap='hot')\n"
      ]
    },
    {
      "cell_type": "markdown",
      "metadata": {
        "id": "pinQmR80sAzu"
      },
      "source": [
        "From the 891 people on the Titanic, most of the Male died (468) and most of the female survived (233). The Heatman shows clearly that tendency."
      ]
    },
    {
      "cell_type": "code",
      "execution_count": null,
      "metadata": {
        "id": "mVuvEHK5sAzu",
        "outputId": "54922b14-488b-407a-99c6-0f5b211a0ae1"
      },
      "outputs": [
        {
          "data": {
            "text/plain": [
              "<AxesSubplot:xlabel='Sex', ylabel='count'>"
            ]
          },
          "execution_count": 139,
          "metadata": {},
          "output_type": "execute_result"
        },
        {
          "data": {
            "image/png": "[encoded data removed]",
            "text/plain": [
              "<Figure size 640x480 with 1 Axes>"
            ]
          },
          "metadata": {},
          "output_type": "display_data"
        }
      ],
      "source": [
        "sns.set_style('whitegrid')\n",
        "sns.countplot(x = 'Sex', data = tic, hue= \"Survived\", palette = 'flare')\n"
      ]
    },
    {
      "cell_type": "markdown",
      "metadata": {
        "id": "KrBP3rjysAzv"
      },
      "source": [
        "The countplot shows that the variables are not independent from each other. That means that the people that survived was closely related to the gender. In others words, Female had more opportunities to live."
      ]
    },
    {
      "cell_type": "markdown",
      "metadata": {
        "id": "pQOaWEqMsAzv"
      },
      "source": [
        "#### Calculating Statistical  Chi square Test:\n",
        "Conducting Chi-squared test to establish whether the Survived and Age variables are related.         \n",
        "* Dependent Variable: Survived                                                                            \n",
        "* Independent Variable: Sex\n",
        "\n",
        "\n",
        "Ho: The variables Sex and Survived are independent from each other. They have no correlation\n",
        "\n",
        "Ha: The variables Sex and Survived are not independent from each other. They have a correlation"
      ]
    },
    {
      "cell_type": "code",
      "execution_count": null,
      "metadata": {
        "id": "NaFreYAlsAzv",
        "outputId": "6c629e74-ba7a-4359-efdd-96642e9ea070"
      },
      "outputs": [
        {
          "name": "stdout",
          "output_type": "stream",
          "text": [
            "Chi square value is  260.71702016732104\n",
            "P value is 1.1973570627755645e-58\n",
            "Degrees of Freedom: 1\n"
          ]
        }
      ],
      "source": [
        "chi2_stat, p_val, dof, ex = stats.chi2_contingency(sex_surv)\n",
        "\n",
        "print(\"Chi square value is \",chi2_stat)\n",
        "print(\"P value is\",p_val)\n",
        "print(\"Degrees of Freedom:\",dof)\n",
        "# chi2_stat > P\n",
        "# 260.71 > 1.19"
      ]
    },
    {
      "cell_type": "markdown",
      "metadata": {
        "id": "bogQIZJIsAzv"
      },
      "source": [
        "Because Chi square value is bigger than P value and P value is smaller than 0.05, I have enough evidence to reject the Ho Hypothesis and conclude that the variables have a correlation and are dependent. In others words, Female people had more opportunities to live than than male.  "
      ]
    },
    {
      "cell_type": "markdown",
      "metadata": {
        "id": "X7hqfqf0sAzx"
      },
      "source": [
        "#### Conclusions:\n",
        "Just 18.89% of male survived and 74.20% of female survived.\n",
        "People who were female had more possibilities to live.\n",
        "Indeed, survivability seems to be correlated with the Gender.\n",
        "Chi Squared Test shows that the variable are dependant to each other."
      ]
    },
    {
      "cell_type": "markdown",
      "metadata": {
        "id": "zOuxvzgEsAzx"
      },
      "source": [
        "## Hypothesis 3\n",
        "\n",
        "### Determine if the survival rate is associated to the Age\n",
        "\n",
        "##### Bivariate analysis\n",
        "\n"
      ]
    },
    {
      "cell_type": "markdown",
      "metadata": {
        "id": "0zsWo--ysAzx"
      },
      "source": [
        "#### Tables of frecuencies and percentages between the variables"
      ]
    },
    {
      "cell_type": "markdown",
      "metadata": {
        "id": "6oeAZKoFsAzy"
      },
      "source": [
        "First, the missing values in Age column are going to be replaced with the mean for further analysis."
      ]
    },
    {
      "cell_type": "code",
      "execution_count": null,
      "metadata": {
        "id": "L5gAwaWhsAzy",
        "outputId": "3b2e347d-3d25-4244-ddf0-f6d6049ea26d"
      },
      "outputs": [
        {
          "data": {
            "text/plain": [
              "PassengerId      0\n",
              "Survived         0\n",
              "Pclass           0\n",
              "Name             0\n",
              "Sex              0\n",
              "Age              0\n",
              "SibSp            0\n",
              "Parch            0\n",
              "Ticket           0\n",
              "Fare             0\n",
              "Cabin          687\n",
              "Embarked         2\n",
              "Age_ranges     177\n",
              "dtype: int64"
            ]
          },
          "execution_count": 14,
          "metadata": {},
          "output_type": "execute_result"
        }
      ],
      "source": [
        "tic['Age'].fillna(tic['Age'].mean(), inplace = True)\n",
        "\n",
        "tic.isnull().sum()"
      ]
    },
    {
      "cell_type": "markdown",
      "metadata": {
        "id": "eY9CxZX8sAzy"
      },
      "source": [
        "Describing the data with statistic numbers:"
      ]
    },
    {
      "cell_type": "code",
      "execution_count": null,
      "metadata": {
        "id": "D7hyQNH1sAzz",
        "outputId": "5c22377a-d543-4bfc-b581-286a6dde89ea"
      },
      "outputs": [
        {
          "name": "stdout",
          "output_type": "stream",
          "text": [
            "count    549.000000\n",
            "mean      30.415100\n",
            "std       12.457370\n",
            "min        1.000000\n",
            "25%       23.000000\n",
            "50%       29.699118\n",
            "75%       35.000000\n",
            "max       74.000000\n",
            "Name: Age, dtype: float64\n",
            "count    342.000000\n",
            "mean      28.549778\n",
            "std       13.772498\n",
            "min        0.420000\n",
            "25%       21.000000\n",
            "50%       29.699118\n",
            "75%       35.000000\n",
            "max       80.000000\n",
            "Name: Age, dtype: float64\n"
          ]
        }
      ],
      "source": [
        "no_surv = tic[tic['Survived'] == 0]['Age']\n",
        "surv = tic[tic['Survived'] == 1]['Age']\n",
        "print(no_surv.describe())\n",
        "print(surv.describe())"
      ]
    },
    {
      "cell_type": "markdown",
      "metadata": {
        "id": "lbWUOJIAsAzz"
      },
      "source": [
        "The mean of people who survived and those who did not survive are similar, but the mean for people that survived is slightly smaller (28.549778)."
      ]
    },
    {
      "cell_type": "markdown",
      "metadata": {
        "id": "xD9NADuGsAz0"
      },
      "source": [
        "#### Data Visualization for Sex and Survive Variables\n",
        "For one categorical and numerical variable"
      ]
    },
    {
      "cell_type": "code",
      "execution_count": null,
      "metadata": {
        "id": "_WG6So9isAz0",
        "outputId": "c289411f-5c41-4b00-ea0c-02c3f7eba880"
      },
      "outputs": [
        {
          "data": {
            "text/plain": [
              "<seaborn.axisgrid.FacetGrid at 0x7fce2334c760>"
            ]
          },
          "execution_count": 30,
          "metadata": {},
          "output_type": "execute_result"
        },
        {
          "data": {
            "text/plain": [
              "<Figure size 400x400 with 0 Axes>"
            ]
          },
          "metadata": {},
          "output_type": "display_data"
        },
        {
          "data": {
            "image/png": "[encoded data removed]",
            "text/plain": [
              "<Figure size 500x500 with 1 Axes>"
            ]
          },
          "metadata": {},
          "output_type": "display_data"
        }
      ],
      "source": [
        "plt.figure(figsize = (4,4))\n",
        "sns.catplot(data= tic, x=\"Survived\", y=\"Age\", kind=\"box\")"
      ]
    },
    {
      "cell_type": "markdown",
      "metadata": {
        "id": "VjhTMOvBsAz1"
      },
      "source": [
        "The graph for people that survived has more variance, but the median is the same for both survivabilities. The boxplot shows that there are more extreme values for  people who did not survive than for people that survived.\n"
      ]
    },
    {
      "cell_type": "code",
      "execution_count": null,
      "metadata": {
        "id": "X025DLn1sAz2",
        "outputId": "4ee65a92-9bbc-4214-abd8-13c67a21b50c"
      },
      "outputs": [
        {
          "data": {
            "text/plain": [
              "<AxesSubplot:xlabel='Age', ylabel='Count'>"
            ]
          },
          "execution_count": 28,
          "metadata": {},
          "output_type": "execute_result"
        },
        {
          "data": {
            "image/png": "[encoded data removed]",
            "text/plain": [
              "<Figure size 600x400 with 1 Axes>"
            ]
          },
          "metadata": {},
          "output_type": "display_data"
        }
      ],
      "source": [
        "plt.figure(figsize = (6,4))\n",
        "sns.histplot(tic[tic['Survived'] == 0]['Age'], color= \"green\")\n",
        "sns.histplot(tic[tic['Survived'] == 1]['Age'])\n",
        "\n",
        "# The people who did not survive are the green ones on the distribution."
      ]
    },
    {
      "cell_type": "markdown",
      "metadata": {
        "id": "xIGSHfYvsAz2"
      },
      "source": [
        "The distribution of the people that survived and did not survive is slightly skewed to the right, showing that children had more probability to survive."
      ]
    },
    {
      "cell_type": "markdown",
      "metadata": {
        "id": "vHNozgKFsAz3"
      },
      "source": [
        "#### Calculating Statistical  Chi square Test:\n",
        "\n",
        "Conducting Chi-squared test to establish whether the Survived and Age variables are related.         \n",
        "* Dependent Variable: Survived                                                                            \n",
        "* Independent Variable: Age\n",
        "\n",
        "Ho: The variables Age and Survived are independent from each other. They have no correlation\n",
        "\n",
        "Ha: The variables Age and Survived are not independent from each other. They have a correlation"
      ]
    },
    {
      "cell_type": "code",
      "execution_count": null,
      "metadata": {
        "id": "vaHcJSAtsAz4"
      },
      "outputs": [],
      "source": [
        "tic['Age_ranges']= pd.cut(tic['Age'], bins= 8)\n"
      ]
    },
    {
      "cell_type": "code",
      "execution_count": null,
      "metadata": {
        "id": "tuDMBar6sAz5",
        "outputId": "47854fa2-2a14-495c-fc91-91f09e14fd1b"
      },
      "outputs": [
        {
          "data": {
            "text/html": [
              "<div>\n",
              "<style scoped>\n",
              "    .dataframe tbody tr th:only-of-type {\n",
              "        vertical-align: middle;\n",
              "    }\n",
              "\n",
              "    .dataframe tbody tr th {\n",
              "        vertical-align: top;\n",
              "    }\n",
              "\n",
              "    .dataframe thead th {\n",
              "        text-align: right;\n",
              "    }\n",
              "</style>\n",
              "<table border=\"1\" class=\"dataframe\">\n",
              "  <thead>\n",
              "    <tr style=\"text-align: right;\">\n",
              "      <th>Age_ranges</th>\n",
              "      <th>(0.34, 10.368]</th>\n",
              "      <th>(10.368, 20.315]</th>\n",
              "      <th>(20.315, 30.263]</th>\n",
              "      <th>(30.263, 40.21]</th>\n",
              "      <th>(40.21, 50.158]</th>\n",
              "      <th>(50.158, 60.105]</th>\n",
              "      <th>(60.105, 70.052]</th>\n",
              "      <th>(70.052, 80.0]</th>\n",
              "    </tr>\n",
              "    <tr>\n",
              "      <th>Survived</th>\n",
              "      <th></th>\n",
              "      <th></th>\n",
              "      <th></th>\n",
              "      <th></th>\n",
              "      <th></th>\n",
              "      <th></th>\n",
              "      <th></th>\n",
              "      <th></th>\n",
              "    </tr>\n",
              "  </thead>\n",
              "  <tbody>\n",
              "    <tr>\n",
              "      <th>0</th>\n",
              "      <td>26</td>\n",
              "      <td>71</td>\n",
              "      <td>271</td>\n",
              "      <td>86</td>\n",
              "      <td>53</td>\n",
              "      <td>25</td>\n",
              "      <td>13</td>\n",
              "      <td>4</td>\n",
              "    </tr>\n",
              "    <tr>\n",
              "      <th>1</th>\n",
              "      <td>38</td>\n",
              "      <td>44</td>\n",
              "      <td>136</td>\n",
              "      <td>69</td>\n",
              "      <td>33</td>\n",
              "      <td>17</td>\n",
              "      <td>4</td>\n",
              "      <td>1</td>\n",
              "    </tr>\n",
              "  </tbody>\n",
              "</table>\n",
              "</div>"
            ],
            "text/plain": [
              "Age_ranges  (0.34, 10.368]  (10.368, 20.315]  (20.315, 30.263]  \\\n",
              "Survived                                                         \n",
              "0                       26                71               271   \n",
              "1                       38                44               136   \n",
              "\n",
              "Age_ranges  (30.263, 40.21]  (40.21, 50.158]  (50.158, 60.105]  \\\n",
              "Survived                                                         \n",
              "0                        86               53                25   \n",
              "1                        69               33                17   \n",
              "\n",
              "Age_ranges  (60.105, 70.052]  (70.052, 80.0]  \n",
              "Survived                                      \n",
              "0                         13               4  \n",
              "1                          4               1  "
            ]
          },
          "execution_count": 18,
          "metadata": {},
          "output_type": "execute_result"
        }
      ],
      "source": [
        "age_Surv= pd.crosstab(tic['Survived'], tic['Age_ranges'])\n",
        "age_Surv # Frecuency table of Sex and Survived"
      ]
    },
    {
      "cell_type": "code",
      "execution_count": null,
      "metadata": {
        "id": "qUxCpL7osAz5",
        "outputId": "25603562-8161-4278-8fb4-7d9562820482"
      },
      "outputs": [
        {
          "data": {
            "text/html": [
              "<div>\n",
              "<style scoped>\n",
              "    .dataframe tbody tr th:only-of-type {\n",
              "        vertical-align: middle;\n",
              "    }\n",
              "\n",
              "    .dataframe tbody tr th {\n",
              "        vertical-align: top;\n",
              "    }\n",
              "\n",
              "    .dataframe thead th {\n",
              "        text-align: right;\n",
              "    }\n",
              "</style>\n",
              "<table border=\"1\" class=\"dataframe\">\n",
              "  <thead>\n",
              "    <tr style=\"text-align: right;\">\n",
              "      <th>Age_ranges</th>\n",
              "      <th>(0.34, 10.368]</th>\n",
              "      <th>(10.368, 20.315]</th>\n",
              "      <th>(20.315, 30.263]</th>\n",
              "      <th>(30.263, 40.21]</th>\n",
              "      <th>(40.21, 50.158]</th>\n",
              "      <th>(50.158, 60.105]</th>\n",
              "      <th>(60.105, 70.052]</th>\n",
              "      <th>(70.052, 80.0]</th>\n",
              "    </tr>\n",
              "    <tr>\n",
              "      <th>Survived</th>\n",
              "      <th></th>\n",
              "      <th></th>\n",
              "      <th></th>\n",
              "      <th></th>\n",
              "      <th></th>\n",
              "      <th></th>\n",
              "      <th></th>\n",
              "      <th></th>\n",
              "    </tr>\n",
              "  </thead>\n",
              "  <tbody>\n",
              "    <tr>\n",
              "      <th>0</th>\n",
              "      <td>40.62</td>\n",
              "      <td>61.74</td>\n",
              "      <td>66.58</td>\n",
              "      <td>55.48</td>\n",
              "      <td>61.63</td>\n",
              "      <td>59.52</td>\n",
              "      <td>76.47</td>\n",
              "      <td>80.0</td>\n",
              "    </tr>\n",
              "    <tr>\n",
              "      <th>1</th>\n",
              "      <td>59.38</td>\n",
              "      <td>38.26</td>\n",
              "      <td>33.42</td>\n",
              "      <td>44.52</td>\n",
              "      <td>38.37</td>\n",
              "      <td>40.48</td>\n",
              "      <td>23.53</td>\n",
              "      <td>20.0</td>\n",
              "    </tr>\n",
              "  </tbody>\n",
              "</table>\n",
              "</div>"
            ],
            "text/plain": [
              "Age_ranges  (0.34, 10.368]  (10.368, 20.315]  (20.315, 30.263]  \\\n",
              "Survived                                                         \n",
              "0                    40.62             61.74             66.58   \n",
              "1                    59.38             38.26             33.42   \n",
              "\n",
              "Age_ranges  (30.263, 40.21]  (40.21, 50.158]  (50.158, 60.105]  \\\n",
              "Survived                                                         \n",
              "0                     55.48            61.63             59.52   \n",
              "1                     44.52            38.37             40.48   \n",
              "\n",
              "Age_ranges  (60.105, 70.052]  (70.052, 80.0]  \n",
              "Survived                                      \n",
              "0                      76.47            80.0  \n",
              "1                      23.53            20.0  "
            ]
          },
          "execution_count": 19,
          "metadata": {},
          "output_type": "execute_result"
        }
      ],
      "source": [
        "age_Surv_Per= pd.crosstab(tic['Survived'], tic['Age_ranges']).apply(lambda x: round((x/x.sum())*100,2), axis =0)\n",
        "age_Surv_Per"
      ]
    },
    {
      "cell_type": "code",
      "execution_count": null,
      "metadata": {
        "id": "0ygQQvT9sAz6",
        "outputId": "c7ede376-56e0-4933-d559-eab05e73c94f"
      },
      "outputs": [
        {
          "name": "stdout",
          "output_type": "stream",
          "text": [
            "Chi square value is  21.015582256479558\n",
            "P value is 0.0037471559274657906\n",
            "Degrees of Freedom: 7\n"
          ]
        }
      ],
      "source": [
        "chi2_stat, p_val, dof, ex = stats.chi2_contingency(age_Surv)\n",
        "\n",
        "print(\"Chi square value is \",chi2_stat)\n",
        "print(\"P value is\",p_val)\n",
        "print(\"Degrees of Freedom:\",dof)\n",
        "# chi2_stat > P\n",
        "# 21.015 > 0.0037"
      ]
    },
    {
      "cell_type": "markdown",
      "metadata": {
        "id": "QBWXx6EjsAz6"
      },
      "source": [
        "Because Chi square value is bigger than P value and P value is smaller than 0.05, I have enough evidence to reject the Ho and conclude that the variables have a correlation and are dependent."
      ]
    },
    {
      "cell_type": "code",
      "execution_count": null,
      "metadata": {
        "id": "qWpxlY2HsAz6",
        "outputId": "a216fe13-8a60-4d13-9ec5-8295885a6cf3"
      },
      "outputs": [
        {
          "name": "stdout",
          "output_type": "stream",
          "text": [
            "count                  549\n",
            "unique                   8\n",
            "top       (20.315, 30.263]\n",
            "freq                   271\n",
            "Name: Age_ranges, dtype: object\n",
            "count                  342\n",
            "unique                   8\n",
            "top       (20.315, 30.263]\n",
            "freq                   136\n",
            "Name: Age_ranges, dtype: object\n"
          ]
        }
      ],
      "source": [
        "print(tic[tic['Survived'] == 0]['Age_ranges'].describe()) # Information of people who not survived\n",
        "print(tic[tic['Survived'] == 1]['Age_ranges'].describe()) # Information of people who survived"
      ]
    },
    {
      "cell_type": "markdown",
      "metadata": {
        "id": "PmW1eGCXsAz7"
      },
      "source": [
        "#### Conclusions:\n",
        "The mean for people that survived is less (28.54) than the mean for people who did not survive (30.41). The boxplot shows that there were more extreme values for people who did not survive than for people that survived.\n",
        "The Chi squared test shows that Age and Survived are dependent from each other. That means children had more probabilities to live.\n",
        "The missing Age values could be adding an undefined bias to the hypothesis test and conclusions."
      ]
    },
    {
      "cell_type": "markdown",
      "metadata": {
        "id": "nFGfs_ulsAz7"
      },
      "source": [
        "### Conclusions of Hypothesis:\n",
        "\n",
        "Hypothesis 1: Pclass and Survived are dependent each other. First Class had more possibilities to live than Third Class.\n",
        "\n",
        "Hypothesis 2: Sex and Survived are dependent each other. Female had more possibilities to live than Male.\n",
        "\n",
        "Hypothesis 3: Age and Survived are dependent each other. Children in range of (0-10)years old had more possibilities to live than people in other ranges.\n",
        "\n",
        "\n",
        "To analyze Ages as categorical variable, ranges were generated.\n",
        "\n",
        "Th variables with missing variables (Cabin and embarked were ignored). Age was filled with the mean.\n",
        "\n"
      ]
    },
    {
      "cell_type": "markdown",
      "metadata": {
        "id": "A8EvLb-9sAz8"
      },
      "source": [
        "Ensure that your github project is organized to at least couple of main folders, ensure that you have the README file as well:\n",
        "\n",
        "- Src\n",
        "- Data\n",
        "- Docs\n",
        "- Results\n",
        "\n",
        "Read this link for further info:  https://gist.github.com/ericmjl/27e50331f24db3e8f957d1fe7bbbe510"
      ]
    }
  ],
  "metadata": {
    "anaconda-cloud": {},
    "kernelspec": {
      "display_name": "Python 3 (ipykernel)",
      "language": "python",
      "name": "python3"
    },
    "language_info": {
      "codemirror_mode": {
        "name": "ipython",
        "version": 3
      },
      "file_extension": ".py",
      "mimetype": "text/x-python",
      "name": "python",
      "nbconvert_exporter": "python",
      "pygments_lexer": "ipython3",
      "version": "3.9.13"
    },
    "colab": {
      "provenance": [],
      "include_colab_link": true
    }
  },
  "nbformat": 4,
  "nbformat_minor": 0
}